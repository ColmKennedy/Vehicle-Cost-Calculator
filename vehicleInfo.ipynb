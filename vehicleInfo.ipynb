{
 "cells": [
  {
   "cell_type": "markdown",
   "id": "5e2b5b24",
   "metadata": {},
   "source": [
    "# Vehicle Information Calculator"
   ]
  },
  {
   "cell_type": "markdown",
   "id": "2044fcaa",
   "metadata": {},
   "source": [
    "Calculates the cost and monthly payment of financing a car, based on information known at the time of purchase."
   ]
  },
  {
   "cell_type": "code",
   "execution_count": 1,
   "id": "dae4408d",
   "metadata": {},
   "outputs": [],
   "source": [
    "import math"
   ]
  },
  {
   "cell_type": "markdown",
   "id": "9b6cda27",
   "metadata": {},
   "source": [
    "### Calculates the Principal"
   ]
  },
  {
   "cell_type": "code",
   "execution_count": 2,
   "id": "2385f3f8",
   "metadata": {},
   "outputs": [],
   "source": [
    "def financePrincipal(price, tax_rate= 0.06625, tags= 300):\n",
    "    \n",
    "    '''\n",
    "    Calculates the total cash cost of a new car\n",
    "    inlcudes:\n",
    "        price\n",
    "        tax (NJ) = 6.625%\n",
    "        tags = 300\n",
    "    inputs:\n",
    "        price = sticker price of vehicle\n",
    "        tax = state tax percentage rate, decimal form\n",
    "        tags = cost of registration\n",
    "    returns:\n",
    "        cost = tax, tags, and sticker\n",
    "    '''\n",
    "\n",
    "    tax = price * tax_rate\n",
    "    tags = 300\n",
    "\n",
    "    cost = price + tax + tags\n",
    "\n",
    "    return math.ceil(cost)"
   ]
  },
  {
   "cell_type": "markdown",
   "id": "e3734193",
   "metadata": {},
   "source": [
    "### Calculates Monthly Payment"
   ]
  },
  {
   "cell_type": "code",
   "execution_count": 3,
   "id": "81f50f4c",
   "metadata": {},
   "outputs": [],
   "source": [
    "def calculate_amortization_amount(principal, interest_rate, period):\n",
    "    \n",
    "    '''\n",
    "    Calculates the monthly payment of a new vehicle loan\n",
    "    inputs:\n",
    "        principal = total amount to be financed\n",
    "        interest_rate = annual percentage rate\n",
    "        period = term of loan in months\n",
    "    outputs:\n",
    "        payment = the total monthly payment for the amount financed\n",
    "    '''\n",
    "    \n",
    "    interest_rate = interest_rate/1200\n",
    "    x = (1 + interest_rate) ** period\n",
    "    return principal * (interest_rate * x) / (x - 1)"
   ]
  },
  {
   "cell_type": "markdown",
   "id": "e369ca88",
   "metadata": {},
   "source": [
    "### Creates a Range for the Yearly Cost to Own"
   ]
  },
  {
   "cell_type": "code",
   "execution_count": 4,
   "id": "2a2d669f",
   "metadata": {},
   "outputs": [],
   "source": [
    "def yearlyCost(mpg, payment, gasPrice= 4.5, milesHigh= 15000, milesLow= 7000):\n",
    "    \n",
    "    '''\n",
    "    Calculates the total yearly cost of ownership\n",
    "    includes:\n",
    "        annual total monthly payments\n",
    "        annual fuel cost\n",
    "    inputs:\n",
    "        mpg = combination fuel economy in miles per gallon\n",
    "        payment = monthly payment in $\n",
    "        gasPrice = Average price of gas this year\n",
    "        milesHigh = Miles driven per year Highest\n",
    "        milesLow = Miles driven per year lowest\n",
    "    outputs:\n",
    "        costYearlyHigh = the total cost of 1 year and 15,000 miles\n",
    "        costYearlyLow = the total cost of 1 year and 7,000 miles\n",
    "    '''\n",
    "\n",
    "    # Low miles\n",
    "    gas = milesHigh / mpg * gasPrice\n",
    "    costYearlyHigh = gas + (payment * 12)\n",
    "\n",
    "\n",
    "    # High miles\n",
    "    gas = milesLow / mpg * gasPrice\n",
    "    costYearlyLow = gas + (payment * 12)\n",
    "\n",
    "\n",
    "    return math.ceil(costYearlyHigh), math.ceil(costYearlyLow)"
   ]
  },
  {
   "cell_type": "markdown",
   "id": "f9c54b14",
   "metadata": {},
   "source": [
    "### Creates Vehicle Information Output"
   ]
  },
  {
   "cell_type": "code",
   "execution_count": 5,
   "id": "36535e5f",
   "metadata": {},
   "outputs": [],
   "source": [
    "def vehicleInfo (vehicle, interest_rate, period, mpg, price,\n",
    "                 tax_rate= 0.06625, tags= 300, gasPrice= 4.5,\n",
    "                 milesHigh= 15000, milesLow= 7000):\n",
    "    \n",
    "    '''\n",
    "    Calculates Yearly Costs of a New Car\n",
    "    inputs:\n",
    "        vehicle = year, make, model in format: YYYY MAKE MODEL\n",
    "        interest_rate = annual percentage rate\n",
    "        period = term of loan in months\n",
    "        mpg = combination fuel economy in miles per gallon\n",
    "        price = sticker price of vehicle in $\n",
    "    Outputs:\n",
    "        formated information sheet containing:\n",
    "            price\n",
    "            principal\n",
    "            payment\n",
    "            cost @ 7k miles\n",
    "            cost @ 15k miles\n",
    "    '''\n",
    "    \n",
    "    principal = financePrincipal(price, tax_rate=tax_rate, tags=tags)\n",
    "    payment = math.ceil(calculate_amortization_amount(principal, interest_rate, period))\n",
    "    totalCostHigh, totalCostLow = yearlyCost(mpg, payment, gasPrice=gasPrice, milesHigh=milesHigh, milesLow=milesLow)\n",
    "    \n",
    "    print(' ' + vehicle)\n",
    "    print('='*len(vehicle)+'==')\n",
    "    print()\n",
    "    print('Out The Door: $' + str(price))\n",
    "    print('Amount Financed: $' + str(principal))\n",
    "    print('Monthly Payment: $' + str(payment))\n",
    "    print('Total Yearly Cost for 15,000 Miles: $' + str(totalCostHigh))\n",
    "    print('     Monthly: $' + str(math.ceil(totalCostHigh/12)))\n",
    "    print('Total Yearly Cost for 7,000 Miles: $' + str(totalCostLow))\n",
    "    print('     Monthly: $' + str(math.ceil(totalCostLow/12)))\n",
    "\n"
   ]
  },
  {
   "cell_type": "markdown",
   "id": "1e7a7d37",
   "metadata": {},
   "source": [
    "### Calling the Function"
   ]
  },
  {
   "cell_type": "code",
   "execution_count": 6,
   "id": "a446c642",
   "metadata": {},
   "outputs": [
    {
     "name": "stdout",
     "output_type": "stream",
     "text": [
      " 2022 Hyundai Elantra\n",
      "======================\n",
      "\n",
      "Out The Door: $25000\n",
      "Amount Financed: $26957\n",
      "Monthly Payment: $425\n",
      "Total Yearly Cost for 15,000 Miles: $6374\n",
      "     Monthly: $532\n",
      "Total Yearly Cost for 7,000 Miles: $5695\n",
      "     Monthly: $475\n"
     ]
    }
   ],
   "source": [
    "vehicleInfo(vehicle= '2022 Hyundai Elantra', interest_rate= 4.24,\n",
    "            period= 72, mpg= 53, price= 25000)"
   ]
  },
  {
   "cell_type": "markdown",
   "id": "dd937a16",
   "metadata": {},
   "source": [
    "### Calling the Function with Optional Parameters"
   ]
  },
  {
   "cell_type": "code",
   "execution_count": 7,
   "id": "feb491b5",
   "metadata": {},
   "outputs": [
    {
     "name": "stdout",
     "output_type": "stream",
     "text": [
      " 2022 Hyundai Elantra\n",
      "======================\n",
      "\n",
      "Out The Door: $25000\n",
      "Amount Financed: $26800\n",
      "Monthly Payment: $423\n",
      "Total Yearly Cost for 15,000 Miles: $5869\n",
      "     Monthly: $490\n",
      "Total Yearly Cost for 7,000 Miles: $5407\n",
      "     Monthly: $451\n"
     ]
    }
   ],
   "source": [
    "# Using Optional Arguments\n",
    "vehicleInfo(vehicle= '2022 Hyundai Elantra',\n",
    "            interest_rate= 4.24,\n",
    "            period= 72,\n",
    "            mpg= 53,\n",
    "            price= 25000,\n",
    "            tax_rate= 0.06,     # Optional: PA tax rate used here\n",
    "            tags= 0,            # Optional: Removing registration fees\n",
    "            gasPrice= 3.5,      # Optional: Changing gas price\n",
    "            milesHigh= 12000,   # Optional: Changing highest annual miles\n",
    "            milesLow= 5000      # Optional: Changing lowest annual miles\n",
    "           )"
   ]
  },
  {
   "cell_type": "code",
   "execution_count": null,
   "id": "33a5406e",
   "metadata": {},
   "outputs": [],
   "source": []
  }
 ],
 "metadata": {
  "kernelspec": {
   "display_name": "Python 3 (ipykernel)",
   "language": "python",
   "name": "python3"
  },
  "language_info": {
   "codemirror_mode": {
    "name": "ipython",
    "version": 3
   },
   "file_extension": ".py",
   "mimetype": "text/x-python",
   "name": "python",
   "nbconvert_exporter": "python",
   "pygments_lexer": "ipython3",
   "version": "3.8.16"
  }
 },
 "nbformat": 4,
 "nbformat_minor": 5
}
